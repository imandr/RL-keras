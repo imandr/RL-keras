{
 "cells": [
  {
   "cell_type": "code",
   "execution_count": 3,
   "metadata": {},
   "outputs": [],
   "source": [
    "class ReplayMemoryBuffer(object):\n",
    "    \n",
    "    def __init__(self, source, low_water_mark, high_water_mark = None):\n",
    "        if high_water_mark is None:\n",
    "            high_water_mark = int(1.2 * low_water_mark)\n",
    "        self.LowWaterMark = low_water_mark\n",
    "        self.HighWaterMark = high_water_mark\n",
    "        self.Memory = []\n",
    "        self.Source = source\n",
    "        \n",
    "    def fill(self, requested_size):\n",
    "        while len(self.Memory) < max(requested_size, self.HighWaterMark):\n",
    "            rows = self.Source.generate()\n",
    "            self.Memory += rows\n",
    "\n",
    "    def sample(self, n):\n",
    "        if len(self.Memory) < max(n, self.LowWaterMark):\n",
    "            self.fill(n)\n",
    "            self.shuffle()\n",
    "        assert len(self.Memory) >= n\n",
    "        data = self.Memory[:n]\n",
    "        self.Memory = self.Memory[n:]\n",
    "        return data\n",
    "\n",
    "    NParts = 4\n",
    "    \n",
    "    def shuffle_once(self):\n",
    "        n = len(self.Memory)\n",
    "        done = False\n",
    "        while not done:\n",
    "            inx = np.random.randint(n, self.NParts-1).sort()\n",
    "            done = inx[0] != 0 and inx[-1] != n-1 and np.all(inx[1:]!=inx[:-1])\n",
    "        i = 0\n",
    "        parts = []\n",
    "        for j in inx:\n",
    "            parts.append(self.Memory[i:j])\n",
    "            i = j\n",
    "        parts.append(self.Memory[i:])\n",
    "        parts_order = np.arange(self.NParts)\n",
    "        np.shuffle(parts_order)\n",
    "        parts = [parts[j] for j in parts_order]\n",
    "        self.Memory = sum(parts, [])\n",
    "\n",
    "    NShuffle = 3\n",
    "        \n",
    "    def shuffle(self, n = NShuffle):\n",
    "        for _ in xrange(n):\n",
    "            self.shuffle_once()\n",
    "        \n",
    "        "
   ]
  },
  {
   "cell_type": "code",
   "execution_count": 2,
   "metadata": {},
   "outputs": [
    {
     "data": {
      "text/plain": [
       "[1, 2, 3, 4, 5]"
      ]
     },
     "execution_count": 2,
     "metadata": {},
     "output_type": "execute_result"
    }
   ],
   "source": [
    "class generator(object):\n",
    "    "
   ]
  },
  {
   "cell_type": "code",
   "execution_count": null,
   "metadata": {},
   "outputs": [],
   "source": []
  }
 ],
 "metadata": {
  "kernelspec": {
   "display_name": "Python 2",
   "language": "python",
   "name": "python2"
  },
  "language_info": {
   "codemirror_mode": {
    "name": "ipython",
    "version": 2
   },
   "file_extension": ".py",
   "mimetype": "text/x-python",
   "name": "python",
   "nbconvert_exporter": "python",
   "pygments_lexer": "ipython2",
   "version": "2.7.15"
  }
 },
 "nbformat": 4,
 "nbformat_minor": 2
}
